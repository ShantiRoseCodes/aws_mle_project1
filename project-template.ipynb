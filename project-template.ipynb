{
 "cells": [
  {
   "cell_type": "markdown",
   "metadata": {},
   "source": [
    "# Predict Bike Sharing Demand with AutoGluon Template"
   ]
  },
  {
   "cell_type": "markdown",
   "metadata": {},
   "source": [
    "## Step 2: Download the Kaggle dataset using the kaggle python library"
   ]
  },
  {
   "cell_type": "markdown",
   "metadata": {},
   "source": [
    "### Open up Sagemaker Studio and use starter template"
   ]
  },
  {
   "cell_type": "markdown",
   "metadata": {},
   "source": [
    "1. Notebook should be using a `ml.t3.medium` instance (2 vCPU + 4 GiB)\n",
    "2. Notebook should be using kernal: `Python 3 (MXNet 1.8 Python 3.7 CPU Optimized)`"
   ]
  },
  {
   "cell_type": "markdown",
   "metadata": {},
   "source": [
    "### Install packages"
   ]
  },
  {
   "cell_type": "code",
   "execution_count": 1,
   "metadata": {},
   "outputs": [
    {
     "name": "stdout",
     "output_type": "stream",
     "text": [
      "Requirement already satisfied: pip in /opt/anaconda3/lib/python3.9/site-packages (22.3.1)\n",
      "Requirement already satisfied: setuptools in /opt/anaconda3/lib/python3.9/site-packages (65.6.3)\n",
      "Requirement already satisfied: wheel in /opt/anaconda3/lib/python3.9/site-packages (0.38.4)\n",
      "Requirement already satisfied: mxnet<2.0.0 in /opt/anaconda3/lib/python3.9/site-packages (1.9.1)\n",
      "Requirement already satisfied: bokeh==2.0.1 in /opt/anaconda3/lib/python3.9/site-packages (2.0.1)\n",
      "Requirement already satisfied: packaging>=16.8 in /opt/anaconda3/lib/python3.9/site-packages (from bokeh==2.0.1) (21.3)\n",
      "Requirement already satisfied: PyYAML>=3.10 in /opt/anaconda3/lib/python3.9/site-packages (from bokeh==2.0.1) (6.0)\n",
      "Requirement already satisfied: pillow>=4.0 in /opt/anaconda3/lib/python3.9/site-packages (from bokeh==2.0.1) (9.3.0)\n",
      "Requirement already satisfied: Jinja2>=2.7 in /opt/anaconda3/lib/python3.9/site-packages (from bokeh==2.0.1) (2.11.3)\n",
      "Requirement already satisfied: python-dateutil>=2.1 in /opt/anaconda3/lib/python3.9/site-packages (from bokeh==2.0.1) (2.8.2)\n",
      "Requirement already satisfied: numpy>=1.11.3 in /opt/anaconda3/lib/python3.9/site-packages (from bokeh==2.0.1) (1.21.5)\n",
      "Requirement already satisfied: tornado>=5 in /opt/anaconda3/lib/python3.9/site-packages (from bokeh==2.0.1) (6.1)\n",
      "Requirement already satisfied: typing-extensions>=3.7.4 in /opt/anaconda3/lib/python3.9/site-packages (from bokeh==2.0.1) (4.1.1)\n",
      "Requirement already satisfied: graphviz<0.9.0,>=0.8.1 in /opt/anaconda3/lib/python3.9/site-packages (from mxnet<2.0.0) (0.8.4)\n",
      "Requirement already satisfied: requests<3,>=2.20.0 in /opt/anaconda3/lib/python3.9/site-packages (from mxnet<2.0.0) (2.27.1)\n",
      "Requirement already satisfied: MarkupSafe>=0.23 in /opt/anaconda3/lib/python3.9/site-packages (from Jinja2>=2.7->bokeh==2.0.1) (2.0.1)\n",
      "Requirement already satisfied: pyparsing!=3.0.5,>=2.0.2 in /opt/anaconda3/lib/python3.9/site-packages (from packaging>=16.8->bokeh==2.0.1) (3.0.4)\n",
      "Requirement already satisfied: six>=1.5 in /opt/anaconda3/lib/python3.9/site-packages (from python-dateutil>=2.1->bokeh==2.0.1) (1.16.0)\n",
      "Requirement already satisfied: certifi>=2017.4.17 in /opt/anaconda3/lib/python3.9/site-packages (from requests<3,>=2.20.0->mxnet<2.0.0) (2021.10.8)\n",
      "Requirement already satisfied: charset-normalizer~=2.0.0 in /opt/anaconda3/lib/python3.9/site-packages (from requests<3,>=2.20.0->mxnet<2.0.0) (2.0.4)\n",
      "Requirement already satisfied: idna<4,>=2.5 in /opt/anaconda3/lib/python3.9/site-packages (from requests<3,>=2.20.0->mxnet<2.0.0) (3.3)\n",
      "Requirement already satisfied: urllib3<1.27,>=1.21.1 in /opt/anaconda3/lib/python3.9/site-packages (from requests<3,>=2.20.0->mxnet<2.0.0) (1.26.9)\n",
      "Requirement already satisfied: autogluon in /opt/anaconda3/lib/python3.9/site-packages (0.6.1)\n",
      "Requirement already satisfied: autogluon.core[all]==0.6.1 in /opt/anaconda3/lib/python3.9/site-packages (from autogluon) (0.6.1)\n",
      "Requirement already satisfied: autogluon.vision==0.6.1 in /opt/anaconda3/lib/python3.9/site-packages (from autogluon) (0.6.1)\n",
      "Requirement already satisfied: autogluon.timeseries[all]==0.6.1 in /opt/anaconda3/lib/python3.9/site-packages (from autogluon) (0.6.1)\n",
      "Requirement already satisfied: autogluon.tabular[all]==0.6.1 in /opt/anaconda3/lib/python3.9/site-packages (from autogluon) (0.6.1)\n",
      "Requirement already satisfied: autogluon.multimodal==0.6.1 in /opt/anaconda3/lib/python3.9/site-packages (from autogluon) (0.6.1)\n",
      "Requirement already satisfied: autogluon.text==0.6.1 in /opt/anaconda3/lib/python3.9/site-packages (from autogluon) (0.6.1)\n",
      "Requirement already satisfied: autogluon.features==0.6.1 in /opt/anaconda3/lib/python3.9/site-packages (from autogluon) (0.6.1)\n",
      "Requirement already satisfied: numpy<1.24,>=1.21 in /opt/anaconda3/lib/python3.9/site-packages (from autogluon.core[all]==0.6.1->autogluon) (1.21.5)\n",
      "Requirement already satisfied: matplotlib in /opt/anaconda3/lib/python3.9/site-packages (from autogluon.core[all]==0.6.1->autogluon) (3.5.1)\n",
      "Requirement already satisfied: boto3 in /opt/anaconda3/lib/python3.9/site-packages (from autogluon.core[all]==0.6.1->autogluon) (1.21.32)\n",
      "Requirement already satisfied: scikit-learn<1.2,>=1.0.0 in /opt/anaconda3/lib/python3.9/site-packages (from autogluon.core[all]==0.6.1->autogluon) (1.0.2)\n",
      "Requirement already satisfied: autogluon.common==0.6.1 in /opt/anaconda3/lib/python3.9/site-packages (from autogluon.core[all]==0.6.1->autogluon) (0.6.1)\n",
      "Requirement already satisfied: pandas!=1.4.0,<1.6,>=1.2.5 in /opt/anaconda3/lib/python3.9/site-packages (from autogluon.core[all]==0.6.1->autogluon) (1.4.2)\n",
      "Requirement already satisfied: requests in /opt/anaconda3/lib/python3.9/site-packages (from autogluon.core[all]==0.6.1->autogluon) (2.27.1)\n",
      "Requirement already satisfied: distributed<=2021.11.2,>=2021.09.1 in /opt/anaconda3/lib/python3.9/site-packages (from autogluon.core[all]==0.6.1->autogluon) (2021.11.2)\n",
      "Requirement already satisfied: dask<=2021.11.2,>=2021.09.1 in /opt/anaconda3/lib/python3.9/site-packages (from autogluon.core[all]==0.6.1->autogluon) (2021.11.2)\n",
      "Requirement already satisfied: scipy<1.10.0,>=1.5.4 in /opt/anaconda3/lib/python3.9/site-packages (from autogluon.core[all]==0.6.1->autogluon) (1.7.3)\n",
      "Requirement already satisfied: tqdm>=4.38.0 in /opt/anaconda3/lib/python3.9/site-packages (from autogluon.core[all]==0.6.1->autogluon) (4.64.0)\n",
      "Requirement already satisfied: ray<2.1,>=2.0 in /opt/anaconda3/lib/python3.9/site-packages (from autogluon.core[all]==0.6.1->autogluon) (2.0.1)\n",
      "Requirement already satisfied: hyperopt<0.2.8,>=0.2.7 in /opt/anaconda3/lib/python3.9/site-packages (from autogluon.core[all]==0.6.1->autogluon) (0.2.7)\n",
      "Requirement already satisfied: psutil<6,>=5.7.3 in /opt/anaconda3/lib/python3.9/site-packages (from autogluon.features==0.6.1->autogluon) (5.8.0)\n",
      "Requirement already satisfied: torchtext<0.14.0 in /opt/anaconda3/lib/python3.9/site-packages (from autogluon.multimodal==0.6.1->autogluon) (0.13.1)\n",
      "Requirement already satisfied: fairscale<=0.4.6,>=0.4.5 in /opt/anaconda3/lib/python3.9/site-packages (from autogluon.multimodal==0.6.1->autogluon) (0.4.6)\n",
      "Requirement already satisfied: openmim<=0.2.1,>0.1.5 in /opt/anaconda3/lib/python3.9/site-packages (from autogluon.multimodal==0.6.1->autogluon) (0.2.1)\n",
      "Requirement already satisfied: seqeval<=1.2.2 in /opt/anaconda3/lib/python3.9/site-packages (from autogluon.multimodal==0.6.1->autogluon) (1.2.2)\n",
      "Requirement already satisfied: defusedxml<=0.7.1,>=0.7.1 in /opt/anaconda3/lib/python3.9/site-packages (from autogluon.multimodal==0.6.1->autogluon) (0.7.1)\n",
      "Requirement already satisfied: timm<0.7.0 in /opt/anaconda3/lib/python3.9/site-packages (from autogluon.multimodal==0.6.1->autogluon) (0.6.12)\n",
      "Requirement already satisfied: pytorch-metric-learning<1.4.0,>=1.3.0 in /opt/anaconda3/lib/python3.9/site-packages (from autogluon.multimodal==0.6.1->autogluon) (1.3.2)\n",
      "Requirement already satisfied: sentencepiece<0.2.0,>=0.1.95 in /opt/anaconda3/lib/python3.9/site-packages (from autogluon.multimodal==0.6.1->autogluon) (0.1.97)\n",
      "Requirement already satisfied: Pillow<=9.4.0,>=9.3.0 in /opt/anaconda3/lib/python3.9/site-packages (from autogluon.multimodal==0.6.1->autogluon) (9.3.0)\n",
      "Requirement already satisfied: albumentations<=1.2.0,>=1.1.0 in /opt/anaconda3/lib/python3.9/site-packages (from autogluon.multimodal==0.6.1->autogluon) (1.1.0)\n",
      "Requirement already satisfied: text-unidecode<=1.3 in /opt/anaconda3/lib/python3.9/site-packages (from autogluon.multimodal==0.6.1->autogluon) (1.3)\n",
      "Requirement already satisfied: evaluate<=0.3.0 in /opt/anaconda3/lib/python3.9/site-packages (from autogluon.multimodal==0.6.1->autogluon) (0.3.0)\n",
      "Requirement already satisfied: omegaconf<2.2.0,>=2.1.1 in /opt/anaconda3/lib/python3.9/site-packages (from autogluon.multimodal==0.6.1->autogluon) (2.1.2)\n",
      "Requirement already satisfied: transformers<4.24.0,>=4.23.0 in /opt/anaconda3/lib/python3.9/site-packages (from autogluon.multimodal==0.6.1->autogluon) (4.23.1)\n",
      "Requirement already satisfied: pytorch-lightning<1.8.0,>=1.7.4 in /opt/anaconda3/lib/python3.9/site-packages (from autogluon.multimodal==0.6.1->autogluon) (1.7.7)\n",
      "Requirement already satisfied: nlpaug<=1.1.10,>=1.1.10 in /opt/anaconda3/lib/python3.9/site-packages (from autogluon.multimodal==0.6.1->autogluon) (1.1.10)\n",
      "Requirement already satisfied: torch<1.13,>=1.9 in /opt/anaconda3/lib/python3.9/site-packages (from autogluon.multimodal==0.6.1->autogluon) (1.12.1)\n",
      "Requirement already satisfied: nptyping<1.5.0,>=1.4.4 in /opt/anaconda3/lib/python3.9/site-packages (from autogluon.multimodal==0.6.1->autogluon) (1.4.4)\n",
      "Requirement already satisfied: torchmetrics<0.9.0,>=0.8.0 in /opt/anaconda3/lib/python3.9/site-packages (from autogluon.multimodal==0.6.1->autogluon) (0.8.2)\n",
      "Requirement already satisfied: nltk<4.0.0,>=3.4.5 in /opt/anaconda3/lib/python3.9/site-packages (from autogluon.multimodal==0.6.1->autogluon) (3.7)\n",
      "Requirement already satisfied: smart-open<5.3.0,>=5.2.1 in /opt/anaconda3/lib/python3.9/site-packages (from autogluon.multimodal==0.6.1->autogluon) (5.2.1)\n",
      "Requirement already satisfied: accelerate<0.14,>=0.9 in /opt/anaconda3/lib/python3.9/site-packages (from autogluon.multimodal==0.6.1->autogluon) (0.13.2)\n",
      "Requirement already satisfied: jsonschema<=4.8.0 in /opt/anaconda3/lib/python3.9/site-packages (from autogluon.multimodal==0.6.1->autogluon) (4.4.0)\n",
      "Requirement already satisfied: torchvision<0.14.0 in /opt/anaconda3/lib/python3.9/site-packages (from autogluon.multimodal==0.6.1->autogluon) (0.13.1)\n",
      "Requirement already satisfied: scikit-image<0.20.0,>=0.19.1 in /opt/anaconda3/lib/python3.9/site-packages (from autogluon.multimodal==0.6.1->autogluon) (0.19.2)\n",
      "Requirement already satisfied: networkx<3.0,>=2.3 in /opt/anaconda3/lib/python3.9/site-packages (from autogluon.tabular[all]==0.6.1->autogluon) (2.7.1)\n"
     ]
    },
    {
     "name": "stdout",
     "output_type": "stream",
     "text": [
      "Requirement already satisfied: fastai<2.8,>=2.3.1 in /opt/anaconda3/lib/python3.9/site-packages (from autogluon.tabular[all]==0.6.1->autogluon) (2.7.10)\n",
      "Requirement already satisfied: catboost<1.2,>=1.0 in /opt/anaconda3/lib/python3.9/site-packages (from autogluon.tabular[all]==0.6.1->autogluon) (1.1.1)\n",
      "Requirement already satisfied: lightgbm<3.4,>=3.3 in /opt/anaconda3/lib/python3.9/site-packages (from autogluon.tabular[all]==0.6.1->autogluon) (3.3.3)\n",
      "Requirement already satisfied: xgboost<1.8,>=1.6 in /opt/anaconda3/lib/python3.9/site-packages (from autogluon.tabular[all]==0.6.1->autogluon) (1.6.2)\n",
      "Requirement already satisfied: joblib~=1.1 in /opt/anaconda3/lib/python3.9/site-packages (from autogluon.timeseries[all]==0.6.1->autogluon) (1.1.0)\n",
      "Requirement already satisfied: gluonts~=0.11.0 in /opt/anaconda3/lib/python3.9/site-packages (from autogluon.timeseries[all]==0.6.1->autogluon) (0.11.5)\n",
      "Requirement already satisfied: statsmodels~=0.13.0 in /opt/anaconda3/lib/python3.9/site-packages (from autogluon.timeseries[all]==0.6.1->autogluon) (0.13.2)\n",
      "Requirement already satisfied: pmdarima~=1.8.2 in /opt/anaconda3/lib/python3.9/site-packages (from autogluon.timeseries[all]==0.6.1->autogluon) (1.8.5)\n",
      "Requirement already satisfied: tbats~=1.1 in /opt/anaconda3/lib/python3.9/site-packages (from autogluon.timeseries[all]==0.6.1->autogluon) (1.1.2)\n",
      "Requirement already satisfied: sktime<0.14,>=0.13.1 in /opt/anaconda3/lib/python3.9/site-packages (from autogluon.timeseries[all]==0.6.1->autogluon) (0.13.4)\n",
      "Requirement already satisfied: gluoncv<0.10.6,>=0.10.5 in /opt/anaconda3/lib/python3.9/site-packages (from autogluon.vision==0.6.1->autogluon) (0.10.5.post0)\n",
      "Requirement already satisfied: setuptools in /opt/anaconda3/lib/python3.9/site-packages (from autogluon.common==0.6.1->autogluon.core[all]==0.6.1->autogluon) (65.6.3)\n",
      "Requirement already satisfied: pyyaml in /opt/anaconda3/lib/python3.9/site-packages (from accelerate<0.14,>=0.9->autogluon.multimodal==0.6.1->autogluon) (6.0)\n",
      "Requirement already satisfied: packaging>=20.0 in /opt/anaconda3/lib/python3.9/site-packages (from accelerate<0.14,>=0.9->autogluon.multimodal==0.6.1->autogluon) (21.3)\n",
      "Requirement already satisfied: opencv-python-headless>=4.1.1 in /opt/anaconda3/lib/python3.9/site-packages (from albumentations<=1.2.0,>=1.1.0->autogluon.multimodal==0.6.1->autogluon) (4.6.0.66)\n",
      "Requirement already satisfied: qudida>=0.0.4 in /opt/anaconda3/lib/python3.9/site-packages (from albumentations<=1.2.0,>=1.1.0->autogluon.multimodal==0.6.1->autogluon) (0.0.4)\n",
      "Requirement already satisfied: plotly in /opt/anaconda3/lib/python3.9/site-packages (from catboost<1.2,>=1.0->autogluon.tabular[all]==0.6.1->autogluon) (5.10.0)\n",
      "Requirement already satisfied: six in /opt/anaconda3/lib/python3.9/site-packages (from catboost<1.2,>=1.0->autogluon.tabular[all]==0.6.1->autogluon) (1.16.0)\n",
      "Requirement already satisfied: graphviz in /opt/anaconda3/lib/python3.9/site-packages (from catboost<1.2,>=1.0->autogluon.tabular[all]==0.6.1->autogluon) (0.8.4)\n",
      "Requirement already satisfied: cloudpickle>=1.1.1 in /opt/anaconda3/lib/python3.9/site-packages (from dask<=2021.11.2,>=2021.09.1->autogluon.core[all]==0.6.1->autogluon) (2.0.0)\n",
      "Requirement already satisfied: toolz>=0.8.2 in /opt/anaconda3/lib/python3.9/site-packages (from dask<=2021.11.2,>=2021.09.1->autogluon.core[all]==0.6.1->autogluon) (0.11.2)\n",
      "Requirement already satisfied: partd>=0.3.10 in /opt/anaconda3/lib/python3.9/site-packages (from dask<=2021.11.2,>=2021.09.1->autogluon.core[all]==0.6.1->autogluon) (1.2.0)\n",
      "Requirement already satisfied: fsspec>=0.6.0 in /opt/anaconda3/lib/python3.9/site-packages (from dask<=2021.11.2,>=2021.09.1->autogluon.core[all]==0.6.1->autogluon) (2022.2.0)\n",
      "Requirement already satisfied: tornado>=6.0.3 in /opt/anaconda3/lib/python3.9/site-packages (from distributed<=2021.11.2,>=2021.09.1->autogluon.core[all]==0.6.1->autogluon) (6.1)\n",
      "Requirement already satisfied: msgpack>=0.6.0 in /opt/anaconda3/lib/python3.9/site-packages (from distributed<=2021.11.2,>=2021.09.1->autogluon.core[all]==0.6.1->autogluon) (1.0.2)\n",
      "Requirement already satisfied: click>=6.6 in /opt/anaconda3/lib/python3.9/site-packages (from distributed<=2021.11.2,>=2021.09.1->autogluon.core[all]==0.6.1->autogluon) (8.0.4)\n",
      "Requirement already satisfied: sortedcontainers!=2.0.0,!=2.0.1 in /opt/anaconda3/lib/python3.9/site-packages (from distributed<=2021.11.2,>=2021.09.1->autogluon.core[all]==0.6.1->autogluon) (2.4.0)\n",
      "Requirement already satisfied: tblib>=1.6.0 in /opt/anaconda3/lib/python3.9/site-packages (from distributed<=2021.11.2,>=2021.09.1->autogluon.core[all]==0.6.1->autogluon) (1.7.0)\n",
      "Requirement already satisfied: zict>=0.1.3 in /opt/anaconda3/lib/python3.9/site-packages (from distributed<=2021.11.2,>=2021.09.1->autogluon.core[all]==0.6.1->autogluon) (2.0.0)\n",
      "Requirement already satisfied: jinja2 in /opt/anaconda3/lib/python3.9/site-packages (from distributed<=2021.11.2,>=2021.09.1->autogluon.core[all]==0.6.1->autogluon) (2.11.3)\n",
      "Requirement already satisfied: dill in /opt/anaconda3/lib/python3.9/site-packages (from evaluate<=0.3.0->autogluon.multimodal==0.6.1->autogluon) (0.3.6)\n",
      "Requirement already satisfied: responses<0.19 in /opt/anaconda3/lib/python3.9/site-packages (from evaluate<=0.3.0->autogluon.multimodal==0.6.1->autogluon) (0.18.0)\n",
      "Requirement already satisfied: xxhash in /opt/anaconda3/lib/python3.9/site-packages (from evaluate<=0.3.0->autogluon.multimodal==0.6.1->autogluon) (3.1.0)\n",
      "Requirement already satisfied: huggingface-hub>=0.7.0 in /opt/anaconda3/lib/python3.9/site-packages (from evaluate<=0.3.0->autogluon.multimodal==0.6.1->autogluon) (0.11.1)\n",
      "Requirement already satisfied: multiprocess in /opt/anaconda3/lib/python3.9/site-packages (from evaluate<=0.3.0->autogluon.multimodal==0.6.1->autogluon) (0.70.14)\n",
      "Requirement already satisfied: datasets>=2.0.0 in /opt/anaconda3/lib/python3.9/site-packages (from evaluate<=0.3.0->autogluon.multimodal==0.6.1->autogluon) (2.7.1)\n",
      "Requirement already satisfied: fastdownload<2,>=0.0.5 in /opt/anaconda3/lib/python3.9/site-packages (from fastai<2.8,>=2.3.1->autogluon.tabular[all]==0.6.1->autogluon) (0.0.7)\n",
      "Requirement already satisfied: spacy<4 in /opt/anaconda3/lib/python3.9/site-packages (from fastai<2.8,>=2.3.1->autogluon.tabular[all]==0.6.1->autogluon) (3.4.4)\n",
      "Requirement already satisfied: fastcore<1.6,>=1.4.5 in /opt/anaconda3/lib/python3.9/site-packages (from fastai<2.8,>=2.3.1->autogluon.tabular[all]==0.6.1->autogluon) (1.5.27)\n",
      "Requirement already satisfied: pip in /opt/anaconda3/lib/python3.9/site-packages (from fastai<2.8,>=2.3.1->autogluon.tabular[all]==0.6.1->autogluon) (22.3.1)\n",
      "Requirement already satisfied: fastprogress>=0.2.4 in /opt/anaconda3/lib/python3.9/site-packages (from fastai<2.8,>=2.3.1->autogluon.tabular[all]==0.6.1->autogluon) (1.0.3)\n",
      "Requirement already satisfied: yacs in /opt/anaconda3/lib/python3.9/site-packages (from gluoncv<0.10.6,>=0.10.5->autogluon.vision==0.6.1->autogluon) (0.1.8)\n",
      "Requirement already satisfied: autocfg in /opt/anaconda3/lib/python3.9/site-packages (from gluoncv<0.10.6,>=0.10.5->autogluon.vision==0.6.1->autogluon) (0.0.8)\n",
      "Requirement already satisfied: portalocker in /opt/anaconda3/lib/python3.9/site-packages (from gluoncv<0.10.6,>=0.10.5->autogluon.vision==0.6.1->autogluon) (2.6.0)\n",
      "Requirement already satisfied: opencv-python in /opt/anaconda3/lib/python3.9/site-packages (from gluoncv<0.10.6,>=0.10.5->autogluon.vision==0.6.1->autogluon) (4.6.0.66)\n",
      "Requirement already satisfied: typing-extensions~=4.0 in /opt/anaconda3/lib/python3.9/site-packages (from gluonts~=0.11.0->autogluon.timeseries[all]==0.6.1->autogluon) (4.1.1)\n",
      "Requirement already satisfied: pydantic~=1.7 in /opt/anaconda3/lib/python3.9/site-packages (from gluonts~=0.11.0->autogluon.timeseries[all]==0.6.1->autogluon) (1.10.2)\n",
      "Requirement already satisfied: future in /opt/anaconda3/lib/python3.9/site-packages (from hyperopt<0.2.8,>=0.2.7->autogluon.core[all]==0.6.1->autogluon) (0.18.2)\n",
      "Requirement already satisfied: py4j in /opt/anaconda3/lib/python3.9/site-packages (from hyperopt<0.2.8,>=0.2.7->autogluon.core[all]==0.6.1->autogluon) (0.10.9.7)\n",
      "Requirement already satisfied: attrs>=17.4.0 in /opt/anaconda3/lib/python3.9/site-packages (from jsonschema<=4.8.0->autogluon.multimodal==0.6.1->autogluon) (21.4.0)\n",
      "Requirement already satisfied: pyrsistent!=0.17.0,!=0.17.1,!=0.17.2,>=0.14.0 in /opt/anaconda3/lib/python3.9/site-packages (from jsonschema<=4.8.0->autogluon.multimodal==0.6.1->autogluon) (0.18.0)\n",
      "Requirement already satisfied: wheel in /opt/anaconda3/lib/python3.9/site-packages (from lightgbm<3.4,>=3.3->autogluon.tabular[all]==0.6.1->autogluon) (0.38.4)\n"
     ]
    },
    {
     "name": "stdout",
     "output_type": "stream",
     "text": [
      "Requirement already satisfied: regex>=2021.8.3 in /opt/anaconda3/lib/python3.9/site-packages (from nltk<4.0.0,>=3.4.5->autogluon.multimodal==0.6.1->autogluon) (2022.3.15)\n",
      "Requirement already satisfied: typish>=1.7.0 in /opt/anaconda3/lib/python3.9/site-packages (from nptyping<1.5.0,>=1.4.4->autogluon.multimodal==0.6.1->autogluon) (1.9.3)\n",
      "Requirement already satisfied: antlr4-python3-runtime==4.8 in /opt/anaconda3/lib/python3.9/site-packages (from omegaconf<2.2.0,>=2.1.1->autogluon.multimodal==0.6.1->autogluon) (4.8)\n",
      "Requirement already satisfied: rich in /opt/anaconda3/lib/python3.9/site-packages (from openmim<=0.2.1,>0.1.5->autogluon.multimodal==0.6.1->autogluon) (12.6.0)\n",
      "Requirement already satisfied: tabulate in /opt/anaconda3/lib/python3.9/site-packages (from openmim<=0.2.1,>0.1.5->autogluon.multimodal==0.6.1->autogluon) (0.8.9)\n",
      "Requirement already satisfied: colorama in /opt/anaconda3/lib/python3.9/site-packages (from openmim<=0.2.1,>0.1.5->autogluon.multimodal==0.6.1->autogluon) (0.4.4)\n",
      "Requirement already satisfied: model-index in /opt/anaconda3/lib/python3.9/site-packages (from openmim<=0.2.1,>0.1.5->autogluon.multimodal==0.6.1->autogluon) (0.1.11)\n",
      "Requirement already satisfied: python-dateutil>=2.8.1 in /opt/anaconda3/lib/python3.9/site-packages (from pandas!=1.4.0,<1.6,>=1.2.5->autogluon.core[all]==0.6.1->autogluon) (2.8.2)\n",
      "Requirement already satisfied: pytz>=2020.1 in /opt/anaconda3/lib/python3.9/site-packages (from pandas!=1.4.0,<1.6,>=1.2.5->autogluon.core[all]==0.6.1->autogluon) (2021.3)\n",
      "Requirement already satisfied: urllib3 in /opt/anaconda3/lib/python3.9/site-packages (from pmdarima~=1.8.2->autogluon.timeseries[all]==0.6.1->autogluon) (1.26.9)\n",
      "Requirement already satisfied: Cython!=0.29.18,>=0.29 in /opt/anaconda3/lib/python3.9/site-packages (from pmdarima~=1.8.2->autogluon.timeseries[all]==0.6.1->autogluon) (0.29.28)\n",
      "Requirement already satisfied: pyDeprecate>=0.3.1 in /opt/anaconda3/lib/python3.9/site-packages (from pytorch-lightning<1.8.0,>=1.7.4->autogluon.multimodal==0.6.1->autogluon) (0.3.2)\n",
      "Requirement already satisfied: tensorboard>=2.9.1 in /opt/anaconda3/lib/python3.9/site-packages (from pytorch-lightning<1.8.0,>=1.7.4->autogluon.multimodal==0.6.1->autogluon) (2.10.0)\n",
      "Requirement already satisfied: virtualenv in /opt/anaconda3/lib/python3.9/site-packages (from ray<2.1,>=2.0->autogluon.core[all]==0.6.1->autogluon) (20.17.1)\n",
      "Requirement already satisfied: grpcio<=1.43.0,>=1.32.0 in /opt/anaconda3/lib/python3.9/site-packages (from ray<2.1,>=2.0->autogluon.core[all]==0.6.1->autogluon) (1.42.0)\n",
      "Requirement already satisfied: protobuf<4.0.0,>=3.15.3 in /opt/anaconda3/lib/python3.9/site-packages (from ray<2.1,>=2.0->autogluon.core[all]==0.6.1->autogluon) (3.19.1)\n",
      "Requirement already satisfied: frozenlist in /opt/anaconda3/lib/python3.9/site-packages (from ray<2.1,>=2.0->autogluon.core[all]==0.6.1->autogluon) (1.2.0)\n",
      "Requirement already satisfied: filelock in /opt/anaconda3/lib/python3.9/site-packages (from ray<2.1,>=2.0->autogluon.core[all]==0.6.1->autogluon) (3.6.0)\n",
      "Requirement already satisfied: aiosignal in /opt/anaconda3/lib/python3.9/site-packages (from ray<2.1,>=2.0->autogluon.core[all]==0.6.1->autogluon) (1.2.0)\n",
      "Requirement already satisfied: tensorboardX>=1.9 in /opt/anaconda3/lib/python3.9/site-packages (from ray<2.1,>=2.0->autogluon.core[all]==0.6.1->autogluon) (2.5.1)\n",
      "Requirement already satisfied: charset-normalizer~=2.0.0 in /opt/anaconda3/lib/python3.9/site-packages (from requests->autogluon.core[all]==0.6.1->autogluon) (2.0.4)\n",
      "Requirement already satisfied: idna<4,>=2.5 in /opt/anaconda3/lib/python3.9/site-packages (from requests->autogluon.core[all]==0.6.1->autogluon) (3.3)\n",
      "Requirement already satisfied: certifi>=2017.4.17 in /opt/anaconda3/lib/python3.9/site-packages (from requests->autogluon.core[all]==0.6.1->autogluon) (2021.10.8)\n",
      "Requirement already satisfied: tifffile>=2019.7.26 in /opt/anaconda3/lib/python3.9/site-packages (from scikit-image<0.20.0,>=0.19.1->autogluon.multimodal==0.6.1->autogluon) (2021.7.2)\n",
      "Requirement already satisfied: imageio>=2.4.1 in /opt/anaconda3/lib/python3.9/site-packages (from scikit-image<0.20.0,>=0.19.1->autogluon.multimodal==0.6.1->autogluon) (2.9.0)\n",
      "Requirement already satisfied: PyWavelets>=1.1.1 in /opt/anaconda3/lib/python3.9/site-packages (from scikit-image<0.20.0,>=0.19.1->autogluon.multimodal==0.6.1->autogluon) (1.3.0)\n",
      "Requirement already satisfied: threadpoolctl>=2.0.0 in /opt/anaconda3/lib/python3.9/site-packages (from scikit-learn<1.2,>=1.0.0->autogluon.core[all]==0.6.1->autogluon) (2.2.0)\n",
      "Requirement already satisfied: deprecated>=1.2.13 in /opt/anaconda3/lib/python3.9/site-packages (from sktime<0.14,>=0.13.1->autogluon.timeseries[all]==0.6.1->autogluon) (1.2.13)\n",
      "Requirement already satisfied: numba>=0.53 in /opt/anaconda3/lib/python3.9/site-packages (from sktime<0.14,>=0.13.1->autogluon.timeseries[all]==0.6.1->autogluon) (0.55.1)\n",
      "Requirement already satisfied: patsy>=0.5.2 in /opt/anaconda3/lib/python3.9/site-packages (from statsmodels~=0.13.0->autogluon.timeseries[all]==0.6.1->autogluon) (0.5.2)\n",
      "Requirement already satisfied: tokenizers!=0.11.3,<0.14,>=0.11.1 in /opt/anaconda3/lib/python3.9/site-packages (from transformers<4.24.0,>=4.23.0->autogluon.multimodal==0.6.1->autogluon) (0.13.2)\n",
      "Requirement already satisfied: jmespath<2.0.0,>=0.7.1 in /opt/anaconda3/lib/python3.9/site-packages (from boto3->autogluon.core[all]==0.6.1->autogluon) (0.10.0)\n",
      "Requirement already satisfied: s3transfer<0.6.0,>=0.5.0 in /opt/anaconda3/lib/python3.9/site-packages (from boto3->autogluon.core[all]==0.6.1->autogluon) (0.5.0)\n",
      "Requirement already satisfied: botocore<1.25.0,>=1.24.32 in /opt/anaconda3/lib/python3.9/site-packages (from boto3->autogluon.core[all]==0.6.1->autogluon) (1.24.32)\n",
      "Requirement already satisfied: fonttools>=4.22.0 in /opt/anaconda3/lib/python3.9/site-packages (from matplotlib->autogluon.core[all]==0.6.1->autogluon) (4.25.0)\n",
      "Requirement already satisfied: pyparsing>=2.2.1 in /opt/anaconda3/lib/python3.9/site-packages (from matplotlib->autogluon.core[all]==0.6.1->autogluon) (3.0.4)\n",
      "Requirement already satisfied: kiwisolver>=1.0.1 in /opt/anaconda3/lib/python3.9/site-packages (from matplotlib->autogluon.core[all]==0.6.1->autogluon) (1.3.2)\n",
      "Requirement already satisfied: cycler>=0.10 in /opt/anaconda3/lib/python3.9/site-packages (from matplotlib->autogluon.core[all]==0.6.1->autogluon) (0.11.0)\n",
      "Requirement already satisfied: pyarrow>=6.0.0 in /opt/anaconda3/lib/python3.9/site-packages (from datasets>=2.0.0->evaluate<=0.3.0->autogluon.multimodal==0.6.1->autogluon) (10.0.1)\n",
      "Requirement already satisfied: aiohttp in /opt/anaconda3/lib/python3.9/site-packages (from datasets>=2.0.0->evaluate<=0.3.0->autogluon.multimodal==0.6.1->autogluon) (3.8.1)\n",
      "Requirement already satisfied: wrapt<2,>=1.10 in /opt/anaconda3/lib/python3.9/site-packages (from deprecated>=1.2.13->sktime<0.14,>=0.13.1->autogluon.timeseries[all]==0.6.1->autogluon) (1.12.1)\n",
      "Requirement already satisfied: llvmlite<0.39,>=0.38.0rc1 in /opt/anaconda3/lib/python3.9/site-packages (from numba>=0.53->sktime<0.14,>=0.13.1->autogluon.timeseries[all]==0.6.1->autogluon) (0.38.0)\n",
      "Requirement already satisfied: locket in /opt/anaconda3/lib/python3.9/site-packages (from partd>=0.3.10->dask<=2021.11.2,>=2021.09.1->autogluon.core[all]==0.6.1->autogluon) (0.2.1)\n",
      "Requirement already satisfied: spacy-loggers<2.0.0,>=1.0.0 in /opt/anaconda3/lib/python3.9/site-packages (from spacy<4->fastai<2.8,>=2.3.1->autogluon.tabular[all]==0.6.1->autogluon) (1.0.4)\n",
      "Requirement already satisfied: srsly<3.0.0,>=2.4.3 in /opt/anaconda3/lib/python3.9/site-packages (from spacy<4->fastai<2.8,>=2.3.1->autogluon.tabular[all]==0.6.1->autogluon) (2.4.5)\n",
      "Requirement already satisfied: typer<0.8.0,>=0.3.0 in /opt/anaconda3/lib/python3.9/site-packages (from spacy<4->fastai<2.8,>=2.3.1->autogluon.tabular[all]==0.6.1->autogluon) (0.7.0)\n",
      "Requirement already satisfied: preshed<3.1.0,>=3.0.2 in /opt/anaconda3/lib/python3.9/site-packages (from spacy<4->fastai<2.8,>=2.3.1->autogluon.tabular[all]==0.6.1->autogluon) (3.0.8)\n",
      "Requirement already satisfied: thinc<8.2.0,>=8.1.0 in /opt/anaconda3/lib/python3.9/site-packages (from spacy<4->fastai<2.8,>=2.3.1->autogluon.tabular[all]==0.6.1->autogluon) (8.1.5)\n",
      "Requirement already satisfied: langcodes<4.0.0,>=3.2.0 in /opt/anaconda3/lib/python3.9/site-packages (from spacy<4->fastai<2.8,>=2.3.1->autogluon.tabular[all]==0.6.1->autogluon) (3.3.0)\n",
      "Requirement already satisfied: cymem<2.1.0,>=2.0.2 in /opt/anaconda3/lib/python3.9/site-packages (from spacy<4->fastai<2.8,>=2.3.1->autogluon.tabular[all]==0.6.1->autogluon) (2.0.7)\n",
      "Requirement already satisfied: pathy>=0.3.5 in /opt/anaconda3/lib/python3.9/site-packages (from spacy<4->fastai<2.8,>=2.3.1->autogluon.tabular[all]==0.6.1->autogluon) (0.10.1)\n",
      "Requirement already satisfied: catalogue<2.1.0,>=2.0.6 in /opt/anaconda3/lib/python3.9/site-packages (from spacy<4->fastai<2.8,>=2.3.1->autogluon.tabular[all]==0.6.1->autogluon) (2.0.8)\n",
      "Requirement already satisfied: murmurhash<1.1.0,>=0.28.0 in /opt/anaconda3/lib/python3.9/site-packages (from spacy<4->fastai<2.8,>=2.3.1->autogluon.tabular[all]==0.6.1->autogluon) (1.0.9)\n",
      "Requirement already satisfied: wasabi<1.1.0,>=0.9.1 in /opt/anaconda3/lib/python3.9/site-packages (from spacy<4->fastai<2.8,>=2.3.1->autogluon.tabular[all]==0.6.1->autogluon) (0.10.1)\n",
      "Requirement already satisfied: spacy-legacy<3.1.0,>=3.0.10 in /opt/anaconda3/lib/python3.9/site-packages (from spacy<4->fastai<2.8,>=2.3.1->autogluon.tabular[all]==0.6.1->autogluon) (3.0.10)\n",
      "Requirement already satisfied: google-auth<3,>=1.6.3 in /opt/anaconda3/lib/python3.9/site-packages (from tensorboard>=2.9.1->pytorch-lightning<1.8.0,>=1.7.4->autogluon.multimodal==0.6.1->autogluon) (1.33.0)\n",
      "Requirement already satisfied: werkzeug>=1.0.1 in /opt/anaconda3/lib/python3.9/site-packages (from tensorboard>=2.9.1->pytorch-lightning<1.8.0,>=1.7.4->autogluon.multimodal==0.6.1->autogluon) (2.0.3)\n",
      "Requirement already satisfied: tensorboard-plugin-wit>=1.6.0 in /opt/anaconda3/lib/python3.9/site-packages (from tensorboard>=2.9.1->pytorch-lightning<1.8.0,>=1.7.4->autogluon.multimodal==0.6.1->autogluon) (1.8.1)\n",
      "Requirement already satisfied: google-auth-oauthlib<0.5,>=0.4.1 in /opt/anaconda3/lib/python3.9/site-packages (from tensorboard>=2.9.1->pytorch-lightning<1.8.0,>=1.7.4->autogluon.multimodal==0.6.1->autogluon) (0.4.6)\n",
      "Requirement already satisfied: tensorboard-data-server<0.7.0,>=0.6.0 in /opt/anaconda3/lib/python3.9/site-packages (from tensorboard>=2.9.1->pytorch-lightning<1.8.0,>=1.7.4->autogluon.multimodal==0.6.1->autogluon) (0.6.1)\n",
      "Requirement already satisfied: absl-py>=0.4 in /opt/anaconda3/lib/python3.9/site-packages (from tensorboard>=2.9.1->pytorch-lightning<1.8.0,>=1.7.4->autogluon.multimodal==0.6.1->autogluon) (1.2.0)\n",
      "Requirement already satisfied: markdown>=2.6.8 in /opt/anaconda3/lib/python3.9/site-packages (from tensorboard>=2.9.1->pytorch-lightning<1.8.0,>=1.7.4->autogluon.multimodal==0.6.1->autogluon) (3.3.4)\n"
     ]
    },
    {
     "name": "stdout",
     "output_type": "stream",
     "text": [
      "Requirement already satisfied: heapdict in /opt/anaconda3/lib/python3.9/site-packages (from zict>=0.1.3->distributed<=2021.11.2,>=2021.09.1->autogluon.core[all]==0.6.1->autogluon) (1.0.1)\n",
      "Requirement already satisfied: MarkupSafe>=0.23 in /opt/anaconda3/lib/python3.9/site-packages (from jinja2->distributed<=2021.11.2,>=2021.09.1->autogluon.core[all]==0.6.1->autogluon) (2.0.1)\n",
      "Requirement already satisfied: ordered-set in /opt/anaconda3/lib/python3.9/site-packages (from model-index->openmim<=0.2.1,>0.1.5->autogluon.multimodal==0.6.1->autogluon) (4.1.0)\n",
      "Requirement already satisfied: tenacity>=6.2.0 in /opt/anaconda3/lib/python3.9/site-packages (from plotly->catboost<1.2,>=1.0->autogluon.tabular[all]==0.6.1->autogluon) (8.0.1)\n",
      "Requirement already satisfied: pygments<3.0.0,>=2.6.0 in /opt/anaconda3/lib/python3.9/site-packages (from rich->openmim<=0.2.1,>0.1.5->autogluon.multimodal==0.6.1->autogluon) (2.11.2)\n",
      "Requirement already satisfied: commonmark<0.10.0,>=0.9.0 in /opt/anaconda3/lib/python3.9/site-packages (from rich->openmim<=0.2.1,>0.1.5->autogluon.multimodal==0.6.1->autogluon) (0.9.1)\n",
      "Requirement already satisfied: platformdirs<3,>=2.4 in /opt/anaconda3/lib/python3.9/site-packages (from virtualenv->ray<2.1,>=2.0->autogluon.core[all]==0.6.1->autogluon) (2.6.0)\n",
      "Requirement already satisfied: distlib<1,>=0.3.6 in /opt/anaconda3/lib/python3.9/site-packages (from virtualenv->ray<2.1,>=2.0->autogluon.core[all]==0.6.1->autogluon) (0.3.6)\n",
      "Requirement already satisfied: cachetools<5.0,>=2.0.0 in /opt/anaconda3/lib/python3.9/site-packages (from google-auth<3,>=1.6.3->tensorboard>=2.9.1->pytorch-lightning<1.8.0,>=1.7.4->autogluon.multimodal==0.6.1->autogluon) (4.2.2)\n",
      "Requirement already satisfied: pyasn1-modules>=0.2.1 in /opt/anaconda3/lib/python3.9/site-packages (from google-auth<3,>=1.6.3->tensorboard>=2.9.1->pytorch-lightning<1.8.0,>=1.7.4->autogluon.multimodal==0.6.1->autogluon) (0.2.8)\n",
      "Requirement already satisfied: rsa<5,>=3.1.4 in /opt/anaconda3/lib/python3.9/site-packages (from google-auth<3,>=1.6.3->tensorboard>=2.9.1->pytorch-lightning<1.8.0,>=1.7.4->autogluon.multimodal==0.6.1->autogluon) (4.7.2)\n",
      "Requirement already satisfied: requests-oauthlib>=0.7.0 in /opt/anaconda3/lib/python3.9/site-packages (from google-auth-oauthlib<0.5,>=0.4.1->tensorboard>=2.9.1->pytorch-lightning<1.8.0,>=1.7.4->autogluon.multimodal==0.6.1->autogluon) (1.3.1)\n",
      "Requirement already satisfied: blis<0.8.0,>=0.7.8 in /opt/anaconda3/lib/python3.9/site-packages (from thinc<8.2.0,>=8.1.0->spacy<4->fastai<2.8,>=2.3.1->autogluon.tabular[all]==0.6.1->autogluon) (0.7.9)\n",
      "Requirement already satisfied: confection<1.0.0,>=0.0.1 in /opt/anaconda3/lib/python3.9/site-packages (from thinc<8.2.0,>=8.1.0->spacy<4->fastai<2.8,>=2.3.1->autogluon.tabular[all]==0.6.1->autogluon) (0.0.3)\n",
      "Requirement already satisfied: multidict<7.0,>=4.5 in /opt/anaconda3/lib/python3.9/site-packages (from aiohttp->datasets>=2.0.0->evaluate<=0.3.0->autogluon.multimodal==0.6.1->autogluon) (5.2.0)\n",
      "Requirement already satisfied: yarl<2.0,>=1.0 in /opt/anaconda3/lib/python3.9/site-packages (from aiohttp->datasets>=2.0.0->evaluate<=0.3.0->autogluon.multimodal==0.6.1->autogluon) (1.6.3)\n",
      "Requirement already satisfied: async-timeout<5.0,>=4.0.0a3 in /opt/anaconda3/lib/python3.9/site-packages (from aiohttp->datasets>=2.0.0->evaluate<=0.3.0->autogluon.multimodal==0.6.1->autogluon) (4.0.1)\n",
      "Requirement already satisfied: pyasn1<0.5.0,>=0.4.6 in /opt/anaconda3/lib/python3.9/site-packages (from pyasn1-modules>=0.2.1->google-auth<3,>=1.6.3->tensorboard>=2.9.1->pytorch-lightning<1.8.0,>=1.7.4->autogluon.multimodal==0.6.1->autogluon) (0.4.8)\n",
      "Requirement already satisfied: oauthlib>=3.0.0 in /opt/anaconda3/lib/python3.9/site-packages (from requests-oauthlib>=0.7.0->google-auth-oauthlib<0.5,>=0.4.1->tensorboard>=2.9.1->pytorch-lightning<1.8.0,>=1.7.4->autogluon.multimodal==0.6.1->autogluon) (3.2.0)\n"
     ]
    }
   ],
   "source": [
    "!pip install -U pip\n",
    "!pip install -U setuptools wheel\n",
    "!pip install -U \"mxnet<2.0.0\" bokeh==2.0.1\n",
    "!pip install autogluon --no-cache-dir\n",
    "# Without --no-cache-dir, smaller aws instances may have trouble installing"
   ]
  },
  {
   "cell_type": "code",
   "execution_count": 2,
   "metadata": {},
   "outputs": [
    {
     "name": "stdout",
     "output_type": "stream",
     "text": [
      "Archive:  bike-sharing-demand.zip\r\n",
      "  inflating: sampleSubmission.csv    \r\n",
      "  inflating: test.csv                \r\n",
      "  inflating: train.csv               \r\n"
     ]
    }
   ],
   "source": [
    "# Download the dataset, it will be in a .zip file so you'll need to unzip it as well.\n",
    "# !kaggle competitions download -c bike-sharing-demand\n",
    "# If you already downloaded it you can use the -o command to overwrite the file\n",
    "!unzip -o bike-sharing-demand.zip"
   ]
  },
  {
   "cell_type": "code",
   "execution_count": null,
   "metadata": {},
   "outputs": [],
   "source": [
    "import pandas as pd\n",
    "from autogluon.tabular import TabularPredictor"
   ]
  },
  {
   "cell_type": "code",
   "execution_count": null,
   "metadata": {},
   "outputs": [],
   "source": [
    "# Create the train dataset in pandas by reading the csv\n",
    "# Set the parsing of the datetime column so you can use some of the `dt` features in pandas later\n",
    "train = ?\n",
    "train.head()"
   ]
  },
  {
   "cell_type": "code",
   "execution_count": null,
   "metadata": {},
   "outputs": [],
   "source": [
    "# Simple output of the train dataset to view some of the min/max/varition of the dataset features."
   ]
  },
  {
   "cell_type": "code",
   "execution_count": null,
   "metadata": {},
   "outputs": [],
   "source": [
    "# Create the test pandas dataframe in pandas by reading the csv, remember to parse the datetime!\n",
    "test = ?\n",
    "test.head()"
   ]
  },
  {
   "cell_type": "code",
   "execution_count": null,
   "metadata": {},
   "outputs": [],
   "source": [
    "# Same thing as train and test dataset\n",
    "submission = ?\n",
    "submission.head()"
   ]
  },
  {
   "cell_type": "markdown",
   "metadata": {},
   "source": [
    "## Step 3: Train a model using AutoGluon’s Tabular Prediction"
   ]
  },
  {
   "cell_type": "markdown",
   "metadata": {},
   "source": [
    "Requirements:\n",
    "* We are prediting `count`, so it is the label we are setting.\n",
    "* Ignore `casual` and `registered` columns as they are also not present in the test dataset. \n",
    "* Use the `root_mean_squared_error` as the metric to use for evaluation.\n",
    "* Set a time limit of 10 minutes (600 seconds).\n",
    "* Use the preset `best_quality` to focus on creating the best model."
   ]
  },
  {
   "cell_type": "code",
   "execution_count": null,
   "metadata": {},
   "outputs": [],
   "source": [
    "predictor = TabularPredictor(?).fit(?)"
   ]
  },
  {
   "cell_type": "markdown",
   "metadata": {},
   "source": [
    "### Review AutoGluon's training run with ranking of models that did the best."
   ]
  },
  {
   "cell_type": "code",
   "execution_count": null,
   "metadata": {},
   "outputs": [],
   "source": [
    "predictor.fit_summary()"
   ]
  },
  {
   "cell_type": "markdown",
   "metadata": {},
   "source": [
    "### Create predictions from test dataset"
   ]
  },
  {
   "cell_type": "code",
   "execution_count": null,
   "metadata": {},
   "outputs": [],
   "source": [
    "predictions = ?\n",
    "predictions.head()"
   ]
  },
  {
   "cell_type": "markdown",
   "metadata": {},
   "source": [
    "#### NOTE: Kaggle will reject the submission if we don't set everything to be > 0."
   ]
  },
  {
   "cell_type": "code",
   "execution_count": null,
   "metadata": {},
   "outputs": [],
   "source": [
    "# Describe the `predictions` series to see if there are any negative values\n",
    "?"
   ]
  },
  {
   "cell_type": "code",
   "execution_count": null,
   "metadata": {},
   "outputs": [],
   "source": [
    "# How many negative values do we have?\n",
    "?"
   ]
  },
  {
   "cell_type": "code",
   "execution_count": null,
   "metadata": {},
   "outputs": [],
   "source": [
    "# Set them to zero\n",
    "?"
   ]
  },
  {
   "cell_type": "markdown",
   "metadata": {},
   "source": [
    "### Set predictions to submission dataframe, save, and submit"
   ]
  },
  {
   "cell_type": "code",
   "execution_count": null,
   "metadata": {},
   "outputs": [],
   "source": [
    "submission[\"count\"] = ?\n",
    "submission.to_csv(\"submission.csv\", index=False)"
   ]
  },
  {
   "cell_type": "code",
   "execution_count": null,
   "metadata": {},
   "outputs": [],
   "source": [
    "!kaggle competitions submit -c bike-sharing-demand -f submission.csv -m \"first raw submission\""
   ]
  },
  {
   "cell_type": "markdown",
   "metadata": {},
   "source": [
    "#### View submission via the command line or in the web browser under the competition's page - `My Submissions`"
   ]
  },
  {
   "cell_type": "code",
   "execution_count": null,
   "metadata": {},
   "outputs": [],
   "source": [
    "!kaggle competitions submissions -c bike-sharing-demand | tail -n +1 | head -n 6"
   ]
  },
  {
   "cell_type": "markdown",
   "metadata": {},
   "source": [
    "#### Initial score of `?`"
   ]
  },
  {
   "cell_type": "markdown",
   "metadata": {},
   "source": [
    "## Step 4: Exploratory Data Analysis and Creating an additional feature\n",
    "* Any additional feature will do, but a great suggestion would be to separate out the datetime into hour, day, or month parts."
   ]
  },
  {
   "cell_type": "code",
   "execution_count": null,
   "metadata": {},
   "outputs": [],
   "source": [
    "# Create a histogram of all features to show the distribution of each one relative to the data. This is part of the exploritory data analysis\n",
    "train.?"
   ]
  },
  {
   "cell_type": "code",
   "execution_count": null,
   "metadata": {},
   "outputs": [],
   "source": [
    "# create a new feature\n",
    "train[?] = ?\n",
    "test[?] = ?"
   ]
  },
  {
   "cell_type": "markdown",
   "metadata": {},
   "source": [
    "## Make category types for these so models know they are not just numbers\n",
    "* AutoGluon originally sees these as ints, but in reality they are int representations of a category.\n",
    "* Setting the dtype to category will classify these as categories in AutoGluon."
   ]
  },
  {
   "cell_type": "code",
   "execution_count": null,
   "metadata": {},
   "outputs": [],
   "source": [
    "train[\"season\"] = ?\n",
    "train[\"weather\"] = ?\n",
    "test[\"season\"] = ?\n",
    "test[\"weather\"] = ?"
   ]
  },
  {
   "cell_type": "code",
   "execution_count": null,
   "metadata": {},
   "outputs": [],
   "source": [
    "# View are new feature\n",
    "train.head()"
   ]
  },
  {
   "cell_type": "code",
   "execution_count": null,
   "metadata": {},
   "outputs": [],
   "source": [
    "# View histogram of all features again now with the hour feature\n",
    "train.?"
   ]
  },
  {
   "cell_type": "markdown",
   "metadata": {},
   "source": [
    "## Step 5: Rerun the model with the same settings as before, just with more features"
   ]
  },
  {
   "cell_type": "code",
   "execution_count": null,
   "metadata": {},
   "outputs": [],
   "source": [
    "predictor_new_features = TabularPredictor(?).fit(?)"
   ]
  },
  {
   "cell_type": "code",
   "execution_count": null,
   "metadata": {},
   "outputs": [],
   "source": [
    "predictor_new_features.fit_summary()"
   ]
  },
  {
   "cell_type": "code",
   "execution_count": null,
   "metadata": {},
   "outputs": [],
   "source": [
    "# Remember to set all negative values to zero\n",
    "?"
   ]
  },
  {
   "cell_type": "code",
   "execution_count": null,
   "metadata": {},
   "outputs": [],
   "source": [
    "# Same submitting predictions\n",
    "submission_new_features[\"count\"] = ?\n",
    "submission_new_features.to_csv(\"submission_new_features.csv\", index=False)"
   ]
  },
  {
   "cell_type": "code",
   "execution_count": null,
   "metadata": {},
   "outputs": [],
   "source": [
    "!kaggle competitions submit -c bike-sharing-demand -f submission_new_features.csv -m \"new features\""
   ]
  },
  {
   "cell_type": "code",
   "execution_count": null,
   "metadata": {},
   "outputs": [],
   "source": [
    "!kaggle competitions submissions -c bike-sharing-demand | tail -n +1 | head -n 6"
   ]
  },
  {
   "cell_type": "markdown",
   "metadata": {},
   "source": [
    "#### New Score of `?`"
   ]
  },
  {
   "cell_type": "markdown",
   "metadata": {},
   "source": [
    "## Step 6: Hyper parameter optimization\n",
    "* There are many options for hyper parameter optimization.\n",
    "* Options are to change the AutoGluon higher level parameters or the individual model hyperparameters.\n",
    "* The hyperparameters of the models themselves that are in AutoGluon. Those need the `hyperparameter` and `hyperparameter_tune_kwargs` arguments."
   ]
  },
  {
   "cell_type": "code",
   "execution_count": null,
   "metadata": {},
   "outputs": [],
   "source": [
    "predictor_new_hpo = TabularPredictor(?).fit(?)"
   ]
  },
  {
   "cell_type": "code",
   "execution_count": null,
   "metadata": {},
   "outputs": [],
   "source": [
    "predictor_new_hpo.fit_summary()"
   ]
  },
  {
   "cell_type": "code",
   "execution_count": null,
   "metadata": {},
   "outputs": [],
   "source": [
    "# Remember to set all negative values to zero\n",
    "?"
   ]
  },
  {
   "cell_type": "code",
   "execution_count": null,
   "metadata": {},
   "outputs": [],
   "source": [
    "# Same submitting predictions\n",
    "submission_new_hpo[\"count\"] = ?\n",
    "submission_new_hpo.to_csv(\"submission_new_hpo.csv\", index=False)"
   ]
  },
  {
   "cell_type": "code",
   "execution_count": null,
   "metadata": {},
   "outputs": [],
   "source": [
    "!kaggle competitions submit -c bike-sharing-demand -f submission_new_hpo.csv -m \"new features with hyperparameters\""
   ]
  },
  {
   "cell_type": "code",
   "execution_count": null,
   "metadata": {},
   "outputs": [],
   "source": [
    "!kaggle competitions submissions -c bike-sharing-demand | tail -n +1 | head -n 6"
   ]
  },
  {
   "cell_type": "markdown",
   "metadata": {},
   "source": [
    "#### New Score of `?`"
   ]
  },
  {
   "cell_type": "markdown",
   "metadata": {},
   "source": [
    "## Step 7: Write a Report\n",
    "### Refer to the markdown file for the full report\n",
    "### Creating plots and table for report"
   ]
  },
  {
   "cell_type": "code",
   "execution_count": null,
   "metadata": {
    "jupyter": {
     "source_hidden": true
    }
   },
   "outputs": [],
   "source": [
    "# Taking the top model score from each training run and creating a line plot to show improvement\n",
    "# You can create these in the notebook and save them to PNG or use some other tool (e.g. google sheets, excel)\n",
    "fig = pd.DataFrame(\n",
    "    {\n",
    "        \"model\": [\"initial\", \"add_features\", \"hpo\"],\n",
    "        \"score\": [?, ?, ?]\n",
    "    }\n",
    ").plot(x=\"model\", y=\"score\", figsize=(8, 6)).get_figure()\n",
    "fig.savefig('model_train_score.png')"
   ]
  },
  {
   "cell_type": "code",
   "execution_count": null,
   "metadata": {},
   "outputs": [],
   "source": [
    "# Take the 3 kaggle scores and creating a line plot to show improvement\n",
    "fig = pd.DataFrame(\n",
    "    {\n",
    "        \"test_eval\": [\"initial\", \"add_features\", \"hpo\"],\n",
    "        \"score\": [?, ?, ?]\n",
    "    }\n",
    ").plot(x=\"test_eval\", y=\"score\", figsize=(8, 6)).get_figure()\n",
    "fig.savefig('model_test_score.png')"
   ]
  },
  {
   "cell_type": "markdown",
   "metadata": {},
   "source": [
    "### Hyperparameter table"
   ]
  },
  {
   "cell_type": "code",
   "execution_count": null,
   "metadata": {},
   "outputs": [],
   "source": [
    "# The 3 hyperparameters we tuned with the kaggle score as the result\n",
    "pd.DataFrame({\n",
    "    \"model\": [\"initial\", \"add_features\", \"hpo\"],\n",
    "    \"hpo1\": [?, ?, ?],\n",
    "    \"hpo2\": [?, ?, ?],\n",
    "    \"hpo3\": [?, ?, ?],\n",
    "    \"score\": [?, ?, ?]\n",
    "})"
   ]
  }
 ],
 "metadata": {
  "kernelspec": {
   "display_name": "Python 3 (ipykernel)",
   "language": "python",
   "name": "python3"
  },
  "language_info": {
   "codemirror_mode": {
    "name": "ipython",
    "version": 3
   },
   "file_extension": ".py",
   "mimetype": "text/x-python",
   "name": "python",
   "nbconvert_exporter": "python",
   "pygments_lexer": "ipython3",
   "version": "3.9.12"
  }
 },
 "nbformat": 4,
 "nbformat_minor": 4
}
